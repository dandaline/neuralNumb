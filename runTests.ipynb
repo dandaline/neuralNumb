{
 "cells": [
  {
   "cell_type": "code",
   "execution_count": 98,
   "metadata": {},
   "outputs": [],
   "source": [
    "# %load main.py\n",
    "import pandas as pd\n",
    "import numpy as np\n",
    "from matplotlib import pyplot as plt\n",
    "\n",
    "weightOne = 0\n",
    "biasOne = 0\n",
    "weightTwo = 0\n",
    "biasTwo = 0\n",
    "\n",
    "\n",
    "def loadParams():\n",
    "    global weightOne, biasOne, weightTwo, biasTwo\n",
    "    with open(\"params.txt\") as params:\n",
    "        lines = params.readlines()\n",
    "        weightOne = float(lines[0])\n",
    "        biasOne = float(lines[1])\n",
    "        weightTwo = float(lines[2])\n",
    "        biasTwo = float(lines[3])\n",
    "\n",
    "\n",
    "def saveParams():\n",
    "    with open(\"params.txt\") as params:\n",
    "        params[0] = weightOne\n",
    "        params[1] = biasOne\n",
    "        params[2] = weightTwo\n",
    "        params[3] = biasTwo\n",
    "\n",
    "\n",
    "loadParams()\n",
    "\n",
    "trainingData = pd.read_csv('mnist_train.csv', header=None)\n",
    "trainingData = np.array(trainingData).T # transpose the data columms = 1 label and 784 pixels\n",
    "\n",
    "\n",
    "\n",
    "# forward propagation\n",
    "\n",
    "# layer zero\n",
    "\n",
    "\n",
    "# layer one\n",
    "\n"
   ]
  },
  {
   "cell_type": "code",
   "execution_count": 99,
   "metadata": {},
   "outputs": [
    {
     "name": "stdout",
     "output_type": "stream",
     "text": [
      "785 2000\n"
     ]
    }
   ],
   "source": [
    "np.random.shuffle(trainingData)\n",
    "trainingData = trainingData[0:785,0:2000] # select a random selection of a training data to avoid overfit\n",
    "rows,columns = trainingData.shape # m = 785, n = 60000\n",
    "print(rows, columns)\n",
    "labels = trainingData[0] # 1 x 60000 labels \n",
    "pixels = trainingData[1:columns] # pixels is a 784 x 60000 matrix, 784 pixels per image, 60000 images\n",
    "print(pixels)"
   ]
  },
  {
   "cell_type": "code",
   "execution_count": null,
   "metadata": {},
   "outputs": [],
   "source": []
  }
 ],
 "metadata": {
  "kernelspec": {
   "display_name": "venv",
   "language": "python",
   "name": "python3"
  },
  "language_info": {
   "codemirror_mode": {
    "name": "ipython",
    "version": 3
   },
   "file_extension": ".py",
   "mimetype": "text/x-python",
   "name": "python",
   "nbconvert_exporter": "python",
   "pygments_lexer": "ipython3",
   "version": "3.11.3"
  },
  "orig_nbformat": 4
 },
 "nbformat": 4,
 "nbformat_minor": 2
}
