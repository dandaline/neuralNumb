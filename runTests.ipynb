{
 "cells": [
  {
   "cell_type": "code",
   "execution_count": 14,
   "metadata": {},
   "outputs": [
    {
     "name": "stdout",
     "output_type": "stream",
     "text": [
      "[[ 0.4469236 ]\n",
      " [ 0.35165814]\n",
      " [ 0.03880195]\n",
      " [ 0.44723668]\n",
      " [-0.2395648 ]\n",
      " [ 0.10898914]\n",
      " [-0.06988577]\n",
      " [ 0.17485847]\n",
      " [ 0.37068848]\n",
      " [-0.42248821]]\n"
     ]
    }
   ],
   "source": [
    "import numpy as np\n",
    "import os\n",
    "\n",
    "def loadParams():\n",
    "    if os.path.exists(\"weightOne.npy\" and \"biasOne.npy\" and \"weightTwo.npy\" and \"biasTwo.npy\"):\n",
    "        weightOne = np.load(\"weightOne.npy\")\n",
    "        biasOne = np.load(\"biasOne.npy\")\n",
    "        weightTwo = np.load(\"weightTwo.npy\")\n",
    "        biasTwo = np.load(\"biasTwo.npy\")\n",
    "    else:\n",
    "        weightOne, biasOne, weightTwo, biasTwo = initParams()\n",
    "        np.save(\"weightOne.npy\", weightOne)\n",
    "        np.save(\"biasOne.npy\", biasOne)\n",
    "        np.save(\"weightTwo.npy\", weightTwo)\n",
    "        np.save(\"biasTwo.npy\", biasTwo)\n",
    "    return weightOne, biasOne, weightTwo, biasTwo\n",
    "\n",
    "\n",
    "def initParams():\n",
    "    weightOne = np.random.rand(10, 784) - 0.5\n",
    "    biasOne = np.random.rand(10, 1) - 0.5\n",
    "    weightTwo = np.random.rand(10, 10) - 0.5\n",
    "    biasTwo = np.random.rand(10, 1) - 0.5\n",
    "    return weightOne, biasOne, weightTwo, biasTwo\n",
    "\n",
    "\n",
    "weightOne, biasOne, weightTwo, biasTwo = loadParams()\n",
    "print(biasOne)"
   ]
  }
 ],
 "metadata": {
  "kernelspec": {
   "display_name": "venv",
   "language": "python",
   "name": "python3"
  },
  "language_info": {
   "codemirror_mode": {
    "name": "ipython",
    "version": 3
   },
   "file_extension": ".py",
   "mimetype": "text/x-python",
   "name": "python",
   "nbconvert_exporter": "python",
   "pygments_lexer": "ipython3",
   "version": "3.11.3"
  },
  "orig_nbformat": 4
 },
 "nbformat": 4,
 "nbformat_minor": 2
}
